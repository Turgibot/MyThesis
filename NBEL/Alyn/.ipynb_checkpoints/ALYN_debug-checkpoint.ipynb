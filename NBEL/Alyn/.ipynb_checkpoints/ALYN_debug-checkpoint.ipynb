{
 "cells": [
  {
   "cell_type": "code",
   "execution_count": 1,
   "metadata": {},
   "outputs": [],
   "source": [
    "from IK import *"
   ]
  },
  {
   "cell_type": "code",
   "execution_count": 2,
   "metadata": {},
   "outputs": [],
   "source": [
    "ik_model = viper300()"
   ]
  },
  {
   "cell_type": "code",
   "execution_count": 3,
   "metadata": {},
   "outputs": [],
   "source": [
    "position = [-0.08726646259971647, 0.7853981633974483, -0.0, 3.141592653589793, 0.7853981633974483]"
   ]
  },
  {
   "cell_type": "code",
   "execution_count": 8,
   "metadata": {},
   "outputs": [
    {
     "data": {
      "text/plain": [
       "array([[0.02176447],\n",
       "       [0.24876904],\n",
       "       [0.58398337],\n",
       "       [1.        ]])"
      ]
     },
     "execution_count": 8,
     "metadata": {},
     "output_type": "execute_result"
    }
   ],
   "source": [
    "ik_model.get_xyz_symbolic(position)"
   ]
  },
  {
   "cell_type": "code",
   "execution_count": 6,
   "metadata": {},
   "outputs": [],
   "source": [
    "updated_position = position + np.dot(np.linalg.pinv(ik_model.calc_J_symbolic(position)), [0, 0.1, 0])\n",
    "for i in range(4):\n",
    "    updated_position = updated_position + np.dot(np.linalg.pinv(ik_model.calc_J_symbolic(position)), [0, 0.1, 0])"
   ]
  },
  {
   "cell_type": "code",
   "execution_count": 7,
   "metadata": {},
   "outputs": [
    {
     "data": {
      "text/plain": [
       "array([[-0.03113588],\n",
       "       [ 0.69274383],\n",
       "       [ 0.3057766 ],\n",
       "       [ 1.        ]])"
      ]
     },
     "execution_count": 7,
     "metadata": {},
     "output_type": "execute_result"
    }
   ],
   "source": [
    "ik_model.get_xyz_numeric(updated_position)"
   ]
  },
  {
   "cell_type": "code",
   "execution_count": 14,
   "metadata": {},
   "outputs": [],
   "source": [
    "from model import MuJoCo_Model as Model\n",
    "from simulation import Simulation, Controller"
   ]
  },
  {
   "cell_type": "code",
   "execution_count": 15,
   "metadata": {},
   "outputs": [
    {
     "name": "stdout",
     "output_type": "stream",
     "text": [
      "Arm model is specified at: /Users/elishai/Dropbox/1AFiles/NBEL G2/NBEL_repository/Adaptive_arm_control/arm_models/NBEL/NBEL.xml\n",
      "Creating window glfw\n"
     ]
    }
   ],
   "source": [
    "BASE_DIR = '/Users/elishai/Dropbox/1AFiles/NBEL G2/NBEL_repository/Adaptive_arm_control/'\n",
    "  \n",
    "model_name = 'NBEL'\n",
    "model      = Model(BASE_DIR + 'arm_models/{}/{}.xml'.format(model_name, model_name))\n",
    "controller = Controller(model)"
   ]
  },
  {
   "cell_type": "code",
   "execution_count": 16,
   "metadata": {},
   "outputs": [
    {
     "data": {
      "text/plain": [
       "\"\\nposition = [0,0,0,0,0]\\nposition = Robot['Real']['Home']\\nposition = robot_to_model_position(Robot['Real']['Home'])\\n\""
      ]
     },
     "execution_count": 16,
     "metadata": {},
     "output_type": "execute_result"
    }
   ],
   "source": [
    "from RoboticArm import *\n",
    "'''\n",
    "position = [0,0,0,0,0]\n",
    "position = Robot['Real']['Home']\n",
    "position = robot_to_model_position(Robot['Real']['Home'])\n",
    "'''"
   ]
  },
  {
   "cell_type": "code",
   "execution_count": 17,
   "metadata": {},
   "outputs": [
    {
     "name": "stdout",
     "output_type": "stream",
     "text": [
      "{0: -0.06135382646396945, 1: -0.5338382025264423, 2: -0.0832602305466262, 3: 3.1568545262222556, 4: -0.6512733499719722}\n"
     ]
    }
   ],
   "source": [
    "## EE position in the physical model's configuration space\n",
    "p = [1, -1, -1, 1, -1] # y z z x z: accounting for direction of rotation\n",
    "q_dic = {i: p[i]*v for i, v in enumerate (updated_position)}\n",
    "print(q_dic)"
   ]
  },
  {
   "cell_type": "code",
   "execution_count": 18,
   "metadata": {},
   "outputs": [
    {
     "name": "stdout",
     "output_type": "stream",
     "text": [
      "[0.02647407 0.39319029 0.57141905]\n"
     ]
    }
   ],
   "source": [
    "model.goto_null_position()                                  # Goto reference position\n",
    "model.send_target_angles(q_dic)                             # Manipulate model\n",
    "c = model.get_ee_position()                                 # Current position\n",
    "model.visualize()\n",
    "print(c)"
   ]
  },
  {
   "cell_type": "code",
   "execution_count": 2,
   "metadata": {},
   "outputs": [
    {
     "data": {
      "text/plain": [
       "[-0.08726646259971647,\n",
       " 0.7853981633974483,\n",
       " -0.0,\n",
       " 3.141592653589793,\n",
       " 0.7853981633974483]"
      ]
     },
     "execution_count": 2,
     "metadata": {},
     "output_type": "execute_result"
    }
   ],
   "source": [
    "position"
   ]
  },
  {
   "cell_type": "code",
   "execution_count": null,
   "metadata": {},
   "outputs": [],
   "source": []
  }
 ],
 "metadata": {
  "kernelspec": {
   "display_name": "Python 3",
   "language": "python",
   "name": "python3"
  },
  "language_info": {
   "codemirror_mode": {
    "name": "ipython",
    "version": 3
   },
   "file_extension": ".py",
   "mimetype": "text/x-python",
   "name": "python",
   "nbconvert_exporter": "python",
   "pygments_lexer": "ipython3",
   "version": "3.7.6"
  }
 },
 "nbformat": 4,
 "nbformat_minor": 4
}
