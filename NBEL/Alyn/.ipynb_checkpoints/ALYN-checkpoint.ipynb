{
 "cells": [
  {
   "cell_type": "code",
   "execution_count": 7,
   "metadata": {
    "scrolled": true
   },
   "outputs": [],
   "source": [
    "from RoboticArm import *\n",
    "from IK import *\n",
    "import numpy as np\n",
    "from simulation import Simulation, Controller\n",
    "from model import MuJoCo_Model as Model"
   ]
  },
  {
   "cell_type": "markdown",
   "metadata": {},
   "source": [
    "### Arm configuration"
   ]
  },
  {
   "cell_type": "code",
   "execution_count": 8,
   "metadata": {},
   "outputs": [],
   "source": [
    "Robot = {'Real':{\n",
    "            'CMD':\n",
    "                {'Baud Rate'        : {'Address': 8, 'Value': {9600   : 0,\n",
    "                                                               57600  : 1,\n",
    "                                                               115200 : 2,\n",
    "                                                               1000000: 3,\n",
    "                                                               2000000: 4,\n",
    "                                                               3000000: 5,\n",
    "                                                               4000000: 6,\n",
    "                                                               4500000: 7}}, \n",
    "                 'Operating mode'   : {'Address': 11, 'Value': {'Torque'   : 0,\n",
    "                                                                'Velocity' : 1,\n",
    "                                                                'Position' : 3,\n",
    "                                                                'PWM'      : 16}},\n",
    "                 'Torque Enable'    : {'Address': 64, 'Value': {'OFF': 0, 'ON' : 1}},                           \n",
    "                 'LED'              : {'Address': 65, 'Value': {'OFF': 0, 'ON' : 1}},                                  \n",
    "                 'Goal Position'    : {'Address': 116},                         \n",
    "                 'Present Position' : {'Address': 132}, \n",
    "                 'Goal torque'      : {'Address': 102},\n",
    "                 'Ranges'           : {1: range (0,   360),\n",
    "                                       2: range (75,  290),\n",
    "                                       3: range (75,  290),\n",
    "                                       4: range (85,  285),\n",
    "                                       5: range (85,  285),\n",
    "                                       6: range (0,   360),\n",
    "                                       7: range (55,  275),\n",
    "                                       8: range (20,  320),\n",
    "                                       9: range (130, 260)},\n",
    "                 'Limit velocity'   : {'Address': 100, 'Value': 600}, # ranging [-885, 885]\n",
    "                 'Limit torque'     : {'Address': 38,  'Value': 250}  # ranging [-1193, 1193], 2.69mA per step, 3.210A\n",
    "                },\n",
    "             'Priority': [[4, 5], [2, 3], [1], [6], [7], [8], [9]],\n",
    "             \n",
    "             # Note that engines 2 and 5 were set to reverse mode to allow \n",
    "             # both to be configured similarly to their counterpart.\n",
    "             'Home'    : {1: 85, 2: 135, 3: 135, 4: 180, 5: 180, 6: 180, 7:135, 8:180, 9:180}}\n",
    "        } "
   ]
  },
  {
   "cell_type": "markdown",
   "metadata": {},
   "source": [
    "### Arm Control"
   ]
  },
  {
   "cell_type": "code",
   "execution_count": 9,
   "metadata": {},
   "outputs": [
    {
     "name": "stdout",
     "output_type": "stream",
     "text": [
      "Succeeded to open the port\n",
      "Detected Engines :\n",
      "[ID:001] model version : 1120 | firmware version : 43\n",
      "[ID:002] model version : 1120 | firmware version : 43\n",
      "[ID:003] model version : 1120 | firmware version : 44\n",
      "[ID:004] model version : 1120 | firmware version : 44\n",
      "[ID:005] model version : 1120 | firmware version : 44\n",
      "[ID:006] model version : 1120 | firmware version : 44\n",
      "[ID:007] model version : 1120 | firmware version : 44\n",
      "[ID:008] model version : 1020 | firmware version : 44\n",
      "[ID:009] model version : 1020 | firmware version : 44\n",
      "Setting baud rate to: 1 Mbps\n",
      "[ID:001] CMD executed successfully\n",
      "[ID:002] CMD executed successfully\n",
      "[ID:003] CMD executed successfully\n",
      "[ID:004] CMD executed successfully\n",
      "[ID:005] CMD executed successfully\n",
      "[ID:006] CMD executed successfully\n",
      "[ID:007] CMD executed successfully\n",
      "[ID:008] CMD executed successfully\n",
      "[ID:009] CMD executed successfully\n",
      "Releasing torque\n",
      "[ID:001] CMD executed successfully\n",
      "[ID:002] CMD executed successfully\n",
      "[ID:003] CMD executed successfully\n",
      "[ID:004] CMD executed successfully\n",
      "[ID:005] CMD executed successfully\n",
      "[ID:006] CMD executed successfully\n",
      "[ID:007] CMD executed successfully\n",
      "[ID:008] CMD executed successfully\n",
      "[ID:009] CMD executed successfully\n",
      "Setting operatio mode to: position\n",
      "[ID:001] CMD executed successfully\n",
      "[ID:002] CMD executed successfully\n",
      "[ID:003] CMD executed successfully\n",
      "[ID:004] CMD executed successfully\n",
      "[ID:005] CMD executed successfully\n",
      "[ID:006] CMD executed successfully\n",
      "[ID:007] CMD executed successfully\n",
      "[ID:008] CMD executed successfully\n",
      "[ID:009] CMD executed successfully\n",
      "Limiting velocity to: 67.79661016949152%\n",
      "[ID:001] CMD executed successfully\n",
      "[ID:002] CMD executed successfully\n",
      "[ID:003] CMD executed successfully\n",
      "[ID:004] CMD executed successfully\n",
      "[ID:005] CMD executed successfully\n",
      "[ID:006] CMD executed successfully\n",
      "[ID:007] CMD executed successfully\n",
      "[ID:008] CMD executed successfully\n",
      "[ID:009] CMD executed successfully\n",
      "Limiting torque to: 20.955574182732605%\n",
      "[ID:001] CMD executed successfully\n",
      "[ID:002] CMD executed successfully\n",
      "[ID:003] CMD executed successfully\n",
      "[ID:004] CMD executed successfully\n",
      "[ID:005] CMD executed successfully\n",
      "[ID:006] CMD executed successfully\n",
      "[ID:007] CMD executed successfully\n",
      "[ID:008] CMD executed successfully\n",
      "[ID:009] CMD executed successfully\n"
     ]
    }
   ],
   "source": [
    "arm = RoboticArm(Robot, COM_ID = '/dev/tty.usbserial-FT4NNWBP')"
   ]
  },
  {
   "cell_type": "code",
   "execution_count": 10,
   "metadata": {},
   "outputs": [
    {
     "name": "stdout",
     "output_type": "stream",
     "text": [
      "[ID:001] CMD executed successfully\n",
      "[ID:002] CMD executed successfully\n",
      "[ID:003] CMD executed successfully\n",
      "[ID:004] CMD executed successfully\n",
      "[ID:005] CMD executed successfully\n",
      "[ID:006] CMD executed successfully\n",
      "[ID:007] CMD executed successfully\n",
      "[ID:008] CMD executed successfully\n",
      "[ID:009] CMD executed successfully\n",
      "Setting home position\n",
      "Setting [4, 5] to 2048\n",
      "Setting [2, 3] to 1536\n",
      "Setting 1 to 967\n",
      "[ID:001] CMD executed successfully\n",
      "Setting 6 to 2048\n",
      "[ID:006] CMD executed successfully\n",
      "Setting 7 to 1536\n",
      "[ID:007] CMD executed successfully\n",
      "Setting 8 to 2048\n",
      "[ID:008] CMD executed successfully\n",
      "Setting 9 to 2048\n",
      "[ID:009] CMD executed successfully\n"
     ]
    }
   ],
   "source": [
    "arm.go_home()"
   ]
  },
  {
   "cell_type": "code",
   "execution_count": 11,
   "metadata": {
    "scrolled": true
   },
   "outputs": [
    {
     "name": "stdout",
     "output_type": "stream",
     "text": [
      "Setting position at {1: 85, 2: 145, 3: 145, 4: 190, 5: 190, 6: 180, 7: 115, 8: 190, 9: 180}\n"
     ]
    },
    {
     "ename": "AttributeError",
     "evalue": "'RoboticArm' object has no attribute 'groupSyncRead'",
     "output_type": "error",
     "traceback": [
      "\u001b[0;31m---------------------------------------------------------------------------\u001b[0m",
      "\u001b[0;31mAttributeError\u001b[0m                            Traceback (most recent call last)",
      "\u001b[0;32m<ipython-input-11-3341f5ab94a0>\u001b[0m in \u001b[0;36m<module>\u001b[0;34m\u001b[0m\n\u001b[0;32m----> 1\u001b[0;31m \u001b[0marm\u001b[0m\u001b[0;34m.\u001b[0m\u001b[0mset_position\u001b[0m\u001b[0;34m(\u001b[0m\u001b[0;34m{\u001b[0m\u001b[0;36m1\u001b[0m\u001b[0;34m:\u001b[0m \u001b[0;36m85\u001b[0m\u001b[0;34m,\u001b[0m \u001b[0;36m2\u001b[0m\u001b[0;34m:\u001b[0m \u001b[0;36m135\u001b[0m\u001b[0;34m+\u001b[0m\u001b[0;36m10\u001b[0m\u001b[0;34m,\u001b[0m \u001b[0;36m3\u001b[0m\u001b[0;34m:\u001b[0m \u001b[0;36m135\u001b[0m\u001b[0;34m+\u001b[0m\u001b[0;36m10\u001b[0m\u001b[0;34m,\u001b[0m \u001b[0;36m4\u001b[0m\u001b[0;34m:\u001b[0m \u001b[0;36m180\u001b[0m\u001b[0;34m+\u001b[0m\u001b[0;36m10\u001b[0m\u001b[0;34m,\u001b[0m \u001b[0;36m5\u001b[0m\u001b[0;34m:\u001b[0m \u001b[0;36m180\u001b[0m\u001b[0;34m+\u001b[0m\u001b[0;36m10\u001b[0m\u001b[0;34m,\u001b[0m \u001b[0;36m6\u001b[0m\u001b[0;34m:\u001b[0m \u001b[0;36m180\u001b[0m\u001b[0;34m,\u001b[0m \u001b[0;36m7\u001b[0m\u001b[0;34m:\u001b[0m\u001b[0;36m135\u001b[0m\u001b[0;34m-\u001b[0m\u001b[0;36m20\u001b[0m\u001b[0;34m,\u001b[0m \u001b[0;36m8\u001b[0m\u001b[0;34m:\u001b[0m\u001b[0;36m180\u001b[0m\u001b[0;34m+\u001b[0m\u001b[0;36m10\u001b[0m\u001b[0;34m,\u001b[0m \u001b[0;36m9\u001b[0m\u001b[0;34m:\u001b[0m\u001b[0;36m180\u001b[0m\u001b[0;34m}\u001b[0m\u001b[0;34m)\u001b[0m\u001b[0;34m\u001b[0m\u001b[0;34m\u001b[0m\u001b[0m\n\u001b[0m",
      "\u001b[0;32m~/Dropbox/1AFiles/NBEL G2/NBEL_repository/ALYN/RoboticArm.py\u001b[0m in \u001b[0;36mset_position\u001b[0;34m(self, position_dict)\u001b[0m\n\u001b[1;32m    281\u001b[0m         \u001b[0;32mfor\u001b[0m \u001b[0mID\u001b[0m \u001b[0;32min\u001b[0m \u001b[0mposition_dict\u001b[0m\u001b[0;34m:\u001b[0m\u001b[0;34m\u001b[0m\u001b[0;34m\u001b[0m\u001b[0m\n\u001b[1;32m    282\u001b[0m             \u001b[0mself\u001b[0m\u001b[0;34m.\u001b[0m\u001b[0mwatch_for_execution\u001b[0m\u001b[0;34m(\u001b[0m\u001b[0mID\u001b[0m\u001b[0;34m,\u001b[0m \u001b[0mround\u001b[0m\u001b[0;34m(\u001b[0m\u001b[0mposition_dict\u001b[0m\u001b[0;34m[\u001b[0m\u001b[0mID\u001b[0m\u001b[0;34m]\u001b[0m \u001b[0;34m*\u001b[0m \u001b[0;36m11.375\u001b[0m\u001b[0;34m)\u001b[0m\u001b[0;34m)\u001b[0m\u001b[0;34m\u001b[0m\u001b[0;34m\u001b[0m\u001b[0m\n\u001b[0;32m--> 283\u001b[0;31m \u001b[0;34m\u001b[0m\u001b[0m\n\u001b[0m\u001b[1;32m    284\u001b[0m         \u001b[0mself\u001b[0m\u001b[0;34m.\u001b[0m\u001b[0mgroupSyncWrite\u001b[0m\u001b[0;34m.\u001b[0m\u001b[0mclearParam\u001b[0m\u001b[0;34m(\u001b[0m\u001b[0;34m)\u001b[0m\u001b[0;34m\u001b[0m\u001b[0;34m\u001b[0m\u001b[0m\n\u001b[1;32m    285\u001b[0m \u001b[0;34m\u001b[0m\u001b[0m\n",
      "\u001b[0;31mAttributeError\u001b[0m: 'RoboticArm' object has no attribute 'groupSyncRead'"
     ]
    }
   ],
   "source": [
    "arm.set_position({1: 85, 2: 135+10, 3: 135+10, 4: 180+10, 5: 180+10, 6: 180, 7:135-20, 8:180+10, 9:180})"
   ]
  },
  {
   "cell_type": "code",
   "execution_count": 6,
   "metadata": {},
   "outputs": [
    {
     "name": "stdout",
     "output_type": "stream",
     "text": [
      "Setting position at {1: 85, 2: 135, 3: 135, 4: 180, 5: 180, 6: 180, 7: 135, 8: 180, 9: 180}\n"
     ]
    },
    {
     "ename": "NameError",
     "evalue": "name 'IDs' is not defined",
     "output_type": "error",
     "traceback": [
      "\u001b[0;31m---------------------------------------------------------------------------\u001b[0m",
      "\u001b[0;31mNameError\u001b[0m                                 Traceback (most recent call last)",
      "\u001b[0;32m<ipython-input-6-f732a89b4726>\u001b[0m in \u001b[0;36m<module>\u001b[0;34m\u001b[0m\n\u001b[0;32m----> 1\u001b[0;31m \u001b[0marm\u001b[0m\u001b[0;34m.\u001b[0m\u001b[0mset_position\u001b[0m\u001b[0;34m(\u001b[0m\u001b[0;34m{\u001b[0m\u001b[0;36m1\u001b[0m\u001b[0;34m:\u001b[0m \u001b[0;36m85\u001b[0m\u001b[0;34m,\u001b[0m \u001b[0;36m2\u001b[0m\u001b[0;34m:\u001b[0m \u001b[0;36m135\u001b[0m\u001b[0;34m,\u001b[0m \u001b[0;36m3\u001b[0m\u001b[0;34m:\u001b[0m \u001b[0;36m135\u001b[0m\u001b[0;34m,\u001b[0m \u001b[0;36m4\u001b[0m\u001b[0;34m:\u001b[0m \u001b[0;36m180\u001b[0m\u001b[0;34m,\u001b[0m \u001b[0;36m5\u001b[0m\u001b[0;34m:\u001b[0m \u001b[0;36m180\u001b[0m\u001b[0;34m,\u001b[0m \u001b[0;36m6\u001b[0m\u001b[0;34m:\u001b[0m \u001b[0;36m180\u001b[0m\u001b[0;34m,\u001b[0m \u001b[0;36m7\u001b[0m\u001b[0;34m:\u001b[0m\u001b[0;36m135\u001b[0m\u001b[0;34m,\u001b[0m \u001b[0;36m8\u001b[0m\u001b[0;34m:\u001b[0m\u001b[0;36m180\u001b[0m\u001b[0;34m,\u001b[0m \u001b[0;36m9\u001b[0m\u001b[0;34m:\u001b[0m\u001b[0;36m180\u001b[0m\u001b[0;34m}\u001b[0m\u001b[0;34m)\u001b[0m\u001b[0;34m\u001b[0m\u001b[0;34m\u001b[0m\u001b[0m\n\u001b[0m",
      "\u001b[0;32m~/Dropbox/1AFiles/NBEL G2/NBEL_repository/ALYN/RoboticArm.py\u001b[0m in \u001b[0;36mset_position\u001b[0;34m(self, position_dict)\u001b[0m\n\u001b[1;32m    258\u001b[0m         \u001b[0mself\u001b[0m\u001b[0;34m.\u001b[0m\u001b[0mgroupSyncWrite\u001b[0m\u001b[0;34m.\u001b[0m\u001b[0mtxPacket\u001b[0m\u001b[0;34m(\u001b[0m\u001b[0;34m)\u001b[0m\u001b[0;34m\u001b[0m\u001b[0;34m\u001b[0m\u001b[0m\n\u001b[1;32m    259\u001b[0m \u001b[0;34m\u001b[0m\u001b[0m\n\u001b[0;32m--> 260\u001b[0;31m         \u001b[0;32mfor\u001b[0m \u001b[0mID\u001b[0m \u001b[0;32min\u001b[0m \u001b[0mIDs\u001b[0m\u001b[0;34m:\u001b[0m\u001b[0;34m\u001b[0m\u001b[0;34m\u001b[0m\u001b[0m\n\u001b[0m\u001b[1;32m    261\u001b[0m             \u001b[0mwatch_for_execution\u001b[0m\u001b[0;34m(\u001b[0m\u001b[0mID\u001b[0m\u001b[0;34m,\u001b[0m \u001b[0mtarget_position\u001b[0m\u001b[0;34m)\u001b[0m\u001b[0;34m\u001b[0m\u001b[0;34m\u001b[0m\u001b[0m\n\u001b[1;32m    262\u001b[0m \u001b[0;34m\u001b[0m\u001b[0m\n",
      "\u001b[0;31mNameError\u001b[0m: name 'IDs' is not defined"
     ]
    }
   ],
   "source": [
    "arm.set_position({1: 85, 2: 135, 3: 135, 4: 180, 5: 180, 6: 180, 7:135, 8:180, 9:180})"
   ]
  },
  {
   "cell_type": "code",
   "execution_count": 12,
   "metadata": {
    "scrolled": false
   },
   "outputs": [
    {
     "name": "stdout",
     "output_type": "stream",
     "text": [
      "[TxRxResult] There is no status packet!\n",
      "[TxRxResult] There is no status packet!\n"
     ]
    }
   ],
   "source": [
    "arm.destruct()"
   ]
  },
  {
   "cell_type": "markdown",
   "metadata": {},
   "source": [
    "# ARM IK's model"
   ]
  },
  {
   "cell_type": "code",
   "execution_count": 5,
   "metadata": {},
   "outputs": [],
   "source": [
    "ik_model = viper300()"
   ]
  },
  {
   "cell_type": "code",
   "execution_count": 6,
   "metadata": {},
   "outputs": [
    {
     "name": "stdout",
     "output_type": "stream",
     "text": [
      "[0.567 0.418 0.    1.   ]\n"
     ]
    }
   ],
   "source": [
    "# EE position at zero configuration (all angles are zeroed)\n",
    "# Accoding to the IK model, the arm is poiting towards the x-axis, \n",
    "# y is upwards, and z is pointing at the chair\n",
    "print(ik_model.get_xyz_numeric([0,0,0,0,0]).T[0])"
   ]
  },
  {
   "cell_type": "code",
   "execution_count": 7,
   "metadata": {},
   "outputs": [],
   "source": [
    "# Offset angles for the physical arm in relative to the IK mpdel\n",
    "offset_relative_to_IK_Model = {1: 90, 2: 180, 3: 180, 4: 180, \n",
    "                               5: 180, 6: 0, 7: 180, 8: 0, 9: 0}\n",
    "\n",
    "def robot_to_model_position(robot_position):\n",
    "\n",
    "    return [     np.deg2rad(robot_position[1]-offset_relative_to_IK_Model[1]),\n",
    "            -1 * np.deg2rad(robot_position[2]-offset_relative_to_IK_Model[2]),\n",
    "            -1 * np.deg2rad(robot_position[4]-offset_relative_to_IK_Model[4]),\n",
    "                 np.deg2rad(robot_position[6]-offset_relative_to_IK_Model[6]),\n",
    "            -1 * np.deg2rad(robot_position[7]-offset_relative_to_IK_Model[7])]\n",
    "\n",
    "def model_to_robot_position(model_position):\n",
    "     \n",
    "    f = [ np.rad2deg(     model_position[0])+offset_relative_to_IK_Model[1],\n",
    "          np.rad2deg(-1 * model_position[1])+offset_relative_to_IK_Model[2],\n",
    "          np.rad2deg(-1 * model_position[2])+offset_relative_to_IK_Model[4],\n",
    "          np.rad2deg(     model_position[3])+offset_relative_to_IK_Model[6],\n",
    "          np.rad2deg(-1 * model_position[4])+offset_relative_to_IK_Model[7]]\n",
    "\n",
    "    return {1: int(f[0]), 2: int(f[1]), 3: int(f[1]), 4: int(f[2]),\n",
    "            5: int(f[2]), 6: int(f[3]), 7: int(f[4]), 8: 180, 9: 180}\n"
   ]
  },
  {
   "cell_type": "code",
   "execution_count": 8,
   "metadata": {},
   "outputs": [
    {
     "name": "stdout",
     "output_type": "stream",
     "text": [
      "{1: 85, 2: 135, 3: 135, 4: 180, 5: 180, 6: 0, 7: 225, 8: 180, 9: 180}\n"
     ]
    }
   ],
   "source": [
    "# EE position in the physical arm's configuration space\n",
    "print(Robot['Real']['Home'])"
   ]
  },
  {
   "cell_type": "code",
   "execution_count": 9,
   "metadata": {
    "scrolled": true
   },
   "outputs": [
    {
     "name": "stdout",
     "output_type": "stream",
     "text": [
      "[-0.08726646259971647, 0.7853981633974483, -0.0, 0.0, -0.7853981633974483]\n",
      "{1: 85, 2: 135, 3: 135, 4: 180, 5: 180, 6: 0, 7: 225, 8: 180, 9: 180}\n"
     ]
    }
   ],
   "source": [
    "# EE position in the model's configuration s pace\n",
    "home_chair = robot_to_model_position(Robot['Real']['Home'])\n",
    "print(home_chair)\n",
    "# Going back to the physical arm's configuration space\n",
    "print(model_to_robot_position(home_chair))"
   ]
  },
  {
   "cell_type": "code",
   "execution_count": 10,
   "metadata": {},
   "outputs": [
    {
     "data": {
      "text/plain": [
       "[0.24876904276084583, 0.5839833688019348, 0.02176447107776984, 1.0]"
      ]
     },
     "execution_count": 10,
     "metadata": {},
     "output_type": "execute_result"
    }
   ],
   "source": [
    "# EE position in the model's task space\n",
    "list(ik_model.get_xyz_numeric(home_chair).T[0])"
   ]
  },
  {
   "cell_type": "markdown",
   "metadata": {},
   "source": [
    "### ARM physical model"
   ]
  },
  {
   "cell_type": "code",
   "execution_count": 11,
   "metadata": {},
   "outputs": [
    {
     "name": "stdout",
     "output_type": "stream",
     "text": [
      "Arm model is specified at: /Users/elishai/Dropbox/1AFiles/NBEL G2/NBEL_repository/Adaptive_arm_control/arm_models/NBEL/NBEL.xml\n",
      "Creating window glfw\n"
     ]
    }
   ],
   "source": [
    "BASE_DIR = '/Users/elishai/Dropbox/1AFiles/NBEL G2/NBEL_repository/Adaptive_arm_control/'\n",
    "  \n",
    "model_name = 'NBEL'\n",
    "model      = Model(BASE_DIR + 'arm_models/{}/{}.xml'.format(model_name, model_name))\n",
    "controller = Controller(model)"
   ]
  },
  {
   "cell_type": "code",
   "execution_count": 12,
   "metadata": {},
   "outputs": [
    {
     "name": "stdout",
     "output_type": "stream",
     "text": [
      "{0: -0.08726646259971647, 1: -0.7853981633974483, 2: 0.0, 3: 0.0, 4: 0.7853981633974483}\n"
     ]
    }
   ],
   "source": [
    "## EE position in the physical model's configuration space\n",
    "p = [1, -1, -1, 1, -1] # y z z x z: accounting for direction of rotation\n",
    "q_dic = {i: p[i]*v for i, v in enumerate (home_chair)}\n",
    "print(q_dic)"
   ]
  },
  {
   "cell_type": "code",
   "execution_count": 13,
   "metadata": {},
   "outputs": [
    {
     "name": "stdout",
     "output_type": "stream",
     "text": [
      "Pressed ESC\n",
      "Quitting.\n",
      "[0.02557343 0.29228577 0.58389113]\n"
     ]
    }
   ],
   "source": [
    "## EE Position in the physical model's task space\n",
    "# Accoding to the physical model, the arm is poiting towards the y-axis, \n",
    "# z is upwards, and x is pointing at the chair\n",
    "model.goto_null_position()                                  # Goto reference position\n",
    "model.send_target_angles(q_dic)                             # Manipulate model\n",
    "c = model.get_ee_position()                                 # Current position\n",
    "model.visualize()\n",
    "print(c)"
   ]
  },
  {
   "cell_type": "code",
   "execution_count": 14,
   "metadata": {},
   "outputs": [
    {
     "name": "stdout",
     "output_type": "stream",
     "text": [
      "[0.29228577033081904, 0.5838911340310127, 0.02557342730071098]\n"
     ]
    }
   ],
   "source": [
    "# Transforming EE position in the physical model's to the physical's arm task space\n",
    "TRx = np.array([[1,  0, 0],\n",
    "                [0,  0, 1],\n",
    "                [0, -1, 0]])\n",
    "\n",
    "TRz = np.array([[0,  1, 0],\n",
    "                [-1,  0, 0],\n",
    "                [0,  0, 1]])\n",
    "\n",
    "TRxz = np.dot(TRx, TRz)\n",
    "print(list(np.dot(TRxz, c)))"
   ]
  },
  {
   "cell_type": "markdown",
   "metadata": {},
   "source": [
    "### Arm manipulation"
   ]
  },
  {
   "cell_type": "code",
   "execution_count": null,
   "metadata": {},
   "outputs": [],
   "source": [
    "# EE position in the model's configuration s pace\n",
    "home_chair = robot_to_model_position(Robot['Real']['Home'])\n",
    "J_x = ik_model.calc_J_numeric(home_chair) # Calculate the jacobian\n",
    "ux = [0.15, 0, 0.15]\n",
    "u = np.dot(np.linalg.pinv(J_x), ux)\n",
    "home_chair_m = home_chair + u"
   ]
  },
  {
   "cell_type": "code",
   "execution_count": null,
   "metadata": {},
   "outputs": [],
   "source": [
    "print(ik_model.get_xyz_numeric(home_chair).T[0])\n",
    "print(ik_model.get_xyz_numeric(home_chair_m).T[0])"
   ]
  },
  {
   "cell_type": "code",
   "execution_count": null,
   "metadata": {},
   "outputs": [],
   "source": [
    "# Going back to the physical arm's configuration space\n",
    "print(model_to_robot_position(home_chair_m))"
   ]
  },
  {
   "cell_type": "code",
   "execution_count": null,
   "metadata": {},
   "outputs": [],
   "source": []
  }
 ],
 "metadata": {
  "kernelspec": {
   "display_name": "Python 3",
   "language": "python",
   "name": "python3"
  },
  "language_info": {
   "codemirror_mode": {
    "name": "ipython",
    "version": 3
   },
   "file_extension": ".py",
   "mimetype": "text/x-python",
   "name": "python",
   "nbconvert_exporter": "python",
   "pygments_lexer": "ipython3",
   "version": "3.7.6"
  }
 },
 "nbformat": 4,
 "nbformat_minor": 4
}
