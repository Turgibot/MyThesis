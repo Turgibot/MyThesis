{
 "cells": [
  {
   "cell_type": "code",
   "execution_count": null,
   "metadata": {
    "scrolled": true
   },
   "outputs": [],
   "source": [
    "from RoboticArm import *\n",
    "from IK import *\n",
    "import numpy as np\n",
    "from simulation import Simulation, Controller\n",
    "from model import MuJoCo_Model as Model"
   ]
  },
  {
   "cell_type": "markdown",
   "metadata": {},
   "source": [
    "# ARM IK's model"
   ]
  },
  {
   "cell_type": "code",
   "execution_count": null,
   "metadata": {},
   "outputs": [],
   "source": [
    "ik_model = viper300()"
   ]
  },
  {
   "cell_type": "code",
   "execution_count": null,
   "metadata": {},
   "outputs": [],
   "source": [
    "# EE position at zero configuration (all angles are zeroed)\n",
    "# Accoding to the IK model, the arm is pointing towards the x-axis, \n",
    "# y is upwards, and z is pointing at the chair\n",
    "print(ik_model.get_xyz_numeric([0,0,0,0,0]).T[0])"
   ]
  },
  {
   "cell_type": "code",
   "execution_count": null,
   "metadata": {},
   "outputs": [],
   "source": [
    "# Offset angles for the physical arm in relative to the IK mpdel\n",
    "offset_relative_to_IK_Model = {1: 90, 2: 180, 3: 180, 4: 180, \n",
    "                               5: 180, 6: 0, 7: 180, 8: 0, 9: 0}\n",
    "\n",
    "def robot_to_model_position(robot_position):\n",
    "\n",
    "    return [     np.deg2rad(robot_position[1]-offset_relative_to_IK_Model[1]),\n",
    "            -1 * np.deg2rad(robot_position[2]-offset_relative_to_IK_Model[2]),\n",
    "            -1 * np.deg2rad(robot_position[4]-offset_relative_to_IK_Model[4]),\n",
    "                 np.deg2rad(robot_position[6]-offset_relative_to_IK_Model[6]),\n",
    "            -1 * np.deg2rad(robot_position[7]-offset_relative_to_IK_Model[7])]\n",
    "\n",
    "def model_to_robot_position(model_position):\n",
    "     \n",
    "    f = [ np.rad2deg(     model_position[0])+offset_relative_to_IK_Model[1],\n",
    "          np.rad2deg(-1 * model_position[1])+offset_relative_to_IK_Model[2],\n",
    "          np.rad2deg(-1 * model_position[2])+offset_relative_to_IK_Model[4],\n",
    "          np.rad2deg(     model_position[3])+offset_relative_to_IK_Model[6],\n",
    "          np.rad2deg(-1 * model_position[4])+offset_relative_to_IK_Model[7]]\n",
    "\n",
    "    return {1: int(f[0]), 2: int(f[1]), 3: int(f[1]), 4: int(f[2]),\n",
    "            5: int(f[2]), 6: int(f[3]), 7: int(f[4]), 8: 180, 9: 180}\n"
   ]
  },
  {
   "cell_type": "code",
   "execution_count": null,
   "metadata": {
    "scrolled": true
   },
   "outputs": [],
   "source": [
    "# EE position in the physical arm's configuration space\n",
    "print(Robot['Real']['Home'])"
   ]
  },
  {
   "cell_type": "code",
   "execution_count": null,
   "metadata": {
    "scrolled": true
   },
   "outputs": [],
   "source": [
    "# EE position in the model's configuration s pace\n",
    "home_chair = robot_to_model_position(Robot['Real']['Home'])\n",
    "print(home_chair)\n",
    "# Going back to the physical arm's configuration space\n",
    "print(model_to_robot_position(home_chair))"
   ]
  },
  {
   "cell_type": "code",
   "execution_count": null,
   "metadata": {},
   "outputs": [],
   "source": [
    "# EE position in the model's task space\n",
    "list(ik_model.get_xyz_numeric(home_chair).T[0])"
   ]
  },
  {
   "cell_type": "markdown",
   "metadata": {},
   "source": [
    "### ARM physical model"
   ]
  },
  {
   "cell_type": "code",
   "execution_count": null,
   "metadata": {},
   "outputs": [],
   "source": [
    "BASE_DIR = '/Users/elishai/Dropbox/1AFiles/NBEL G2/NBEL_repository/Adaptive_arm_control/'\n",
    "  \n",
    "model_name = 'NBEL'\n",
    "model      = Model(BASE_DIR + 'arm_models/{}/{}.xml'.format(model_name, model_name))\n",
    "controller = Controller(model)"
   ]
  },
  {
   "cell_type": "code",
   "execution_count": null,
   "metadata": {},
   "outputs": [],
   "source": [
    "## EE position in the physical model's configuration space\n",
    "p = [1, -1, -1, 1, -1] # y z z x z: accounting for direction of rotation\n",
    "q_dic = {i: p[i]*v for i, v in enumerate (home_chair)}\n",
    "print(q_dic)"
   ]
  },
  {
   "cell_type": "code",
   "execution_count": null,
   "metadata": {},
   "outputs": [],
   "source": [
    "## EE Position in the physical model's task space\n",
    "# Accoding to the physical model, the arm is poiting towards the y-axis, \n",
    "# z is upwards, and x is pointing at the chair\n",
    "model.goto_null_position()                                  # Goto reference position\n",
    "model.send_target_angles(q_dic)                             # Manipulate model\n",
    "c = model.get_ee_position()                                 # Current position\n",
    "model.visualize()\n",
    "print(c)"
   ]
  },
  {
   "cell_type": "code",
   "execution_count": null,
   "metadata": {},
   "outputs": [],
   "source": [
    "# Transforming EE position in the physical model's to the physical's arm task space\n",
    "TRx = np.array([[1,  0, 0],\n",
    "                [0,  0, 1],\n",
    "                [0, -1, 0]])\n",
    "\n",
    "TRz = np.array([[0,  1, 0],\n",
    "                [-1,  0, 0],\n",
    "                [0,  0, 1]])\n",
    "\n",
    "TRxz = np.dot(TRx, TRz)\n",
    "print(list(np.dot(TRxz, c)))"
   ]
  },
  {
   "cell_type": "markdown",
   "metadata": {},
   "source": [
    "### Arm manipulation"
   ]
  },
  {
   "cell_type": "code",
   "execution_count": null,
   "metadata": {},
   "outputs": [],
   "source": [
    "# EE position in the model's configuration s pace\n",
    "home_chair = robot_to_model_position(Robot['Real']['Home'])\n",
    "J_x = ik_model.calc_J_numeric(home_chair) # Calculate the jacobian\n",
    "ux = [0.15, 0, 0.15]\n",
    "u = np.dot(np.linalg.pinv(J_x), ux)\n",
    "home_chair_m = home_chair + u"
   ]
  },
  {
   "cell_type": "code",
   "execution_count": null,
   "metadata": {},
   "outputs": [],
   "source": [
    "print(ik_model.get_xyz_numeric(home_chair).T[0])\n",
    "print(ik_model.get_xyz_numeric(home_chair_m).T[0])"
   ]
  },
  {
   "cell_type": "code",
   "execution_count": null,
   "metadata": {},
   "outputs": [],
   "source": [
    "# Going back to the physical arm's configuration space\n",
    "print(model_to_robot_position(home_chair_m))"
   ]
  },
  {
   "cell_type": "code",
   "execution_count": null,
   "metadata": {},
   "outputs": [],
   "source": []
  },
  {
   "cell_type": "markdown",
   "metadata": {},
   "source": [
    "### Arm configuration"
   ]
  },
  {
   "cell_type": "markdown",
   "metadata": {},
   "source": [
    "### Arm Control"
   ]
  },
  {
   "cell_type": "code",
   "execution_count": null,
   "metadata": {},
   "outputs": [],
   "source": [
    "arm = RoboticArm(Robot, COM_ID = '/dev/tty.usbserial-FT4NNWBP')"
   ]
  },
  {
   "cell_type": "code",
   "execution_count": null,
   "metadata": {},
   "outputs": [],
   "source": [
    "arm.go_home()"
   ]
  },
  {
   "cell_type": "code",
   "execution_count": null,
   "metadata": {
    "scrolled": true
   },
   "outputs": [],
   "source": [
    "arm.set_position({1: 85, 2: 135+10, 3: 135+10, 4: 180+10, 5: 180+10, 6: 180, 7:135-20, 8:180+10, 9:180})"
   ]
  },
  {
   "cell_type": "code",
   "execution_count": null,
   "metadata": {},
   "outputs": [],
   "source": [
    "arm.set_position({1: 85, 2: 135, 3: 135, 4: 180, 5: 180, 6: 180, 7:135, 8:180, 9:180})"
   ]
  },
  {
   "cell_type": "code",
   "execution_count": null,
   "metadata": {
    "scrolled": false
   },
   "outputs": [],
   "source": [
    "arm.destruct()"
   ]
  }
 ],
 "metadata": {
  "kernelspec": {
   "display_name": "Python 3",
   "language": "python",
   "name": "python3"
  },
  "language_info": {
   "codemirror_mode": {
    "name": "ipython",
    "version": 3
   },
   "file_extension": ".py",
   "mimetype": "text/x-python",
   "name": "python",
   "nbconvert_exporter": "python",
   "pygments_lexer": "ipython3",
   "version": "3.7.6"
  }
 },
 "nbformat": 4,
 "nbformat_minor": 4
}
